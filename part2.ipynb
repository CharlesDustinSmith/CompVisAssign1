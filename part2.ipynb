{
 "cells": [
  {
   "cell_type": "code",
   "execution_count": 30,
   "metadata": {},
   "outputs": [
    {
     "name": "stdout",
     "output_type": "stream",
     "text": [
      "This is my C# cell\n"
     ]
    }
   ],
   "source": [
    "Console.WriteLine(\"This is my C# cell\");"
   ]
  },
  {
   "attachments": {},
   "cell_type": "markdown",
   "metadata": {
    "dotnet_interactive": {
     "language": "csharp"
    },
    "polyglot_notebook": {
     "kernelName": "csharp"
    }
   },
   "source": [
    "## Running Code"
   ]
  },
  {
   "cell_type": "code",
   "execution_count": 46,
   "metadata": {
    "dotnet_interactive": {
     "language": "javascript"
    },
    "polyglot_notebook": {
     "kernelName": "javascript"
    }
   },
   "outputs": [
    {
     "name": "stdout",
     "output_type": "stream",
     "text": [
      "A magic command help no print this using #F\n"
     ]
    },
    {
     "data": {
      "text/html": [
       "<div> A magic command also helped me print this using HTML </div>"
      ]
     },
     "metadata": {},
     "output_type": "display_data"
    }
   ],
   "source": [
    "#!fsharp\n",
    "printfn \"A magic command help no print this using #F\"\n",
    "\n",
    "#!html\n",
    "<div> A magic command also helped me print this using HTML </div>"
   ]
  },
  {
   "attachments": {},
   "cell_type": "markdown",
   "metadata": {
    "dotnet_interactive": {
     "language": "javascript"
    },
    "polyglot_notebook": {
     "kernelName": "javascript"
    }
   },
   "source": [
    "## Variable Sharing + Variable Explorer"
   ]
  },
  {
   "cell_type": "code",
   "execution_count": 32,
   "metadata": {
    "dotnet_interactive": {
     "language": "csharp"
    },
    "polyglot_notebook": {
     "kernelName": "csharp"
    }
   },
   "outputs": [],
   "source": [
    "int testVar = 4;\n",
    "string[] cars = {\"Volvo\", \"BMW\", \"Ford\", \"Mazda\"};"
   ]
  },
  {
   "cell_type": "code",
   "execution_count": 33,
   "metadata": {
    "dotnet_interactive": {
     "language": "javascript"
    },
    "polyglot_notebook": {
     "kernelName": "javascript"
    }
   },
   "outputs": [],
   "source": [
    "#!share --from csharp testVar"
   ]
  },
  {
   "cell_type": "code",
   "execution_count": 34,
   "metadata": {
    "dotnet_interactive": {
     "language": "javascript"
    },
    "polyglot_notebook": {
     "kernelName": "javascript"
    }
   },
   "outputs": [],
   "source": [
    "#!share --from csharp cars"
   ]
  },
  {
   "cell_type": "code",
   "execution_count": 45,
   "metadata": {
    "dotnet_interactive": {
     "language": "mermaid"
    },
    "polyglot_notebook": {
     "kernelName": "mermaid"
    }
   },
   "outputs": [
    {
     "data": {
      "text/html": [
       "<div class=\"mermaidMarkdownContainer\" style=\"background-color:white\">\n",
       "<link rel=\"stylesheet\" href=\"https://cdnjs.cloudflare.com/ajax/libs/font-awesome/6.2.0/css/all.min.css\">\n",
       "<script type=\"text/javascript\">\n",
       "\r\n",
       "loadMermaid_ba21aa5885bd445082fd5fe6b8f045bf = () => {\n",
       " \r\n",
       "        (require.config({ 'paths': { 'context': '9.1.7', 'mermaidUri' : 'https://cdn.jsdelivr.net/npm/mermaid@9.1.7/dist/mermaid.min', 'urlArgs': 'cacheBuster=4dcf1f3ca78a424ba2727edbb9551e04' }}) || require)(['mermaidUri'], (mermaid) => {\n",
       "\r\n",
       "            let renderTarget = document.getElementById('ba21aa5885bd445082fd5fe6b8f045bf');\r\n",
       "            mermaid.mermaidAPI.render( \r\n",
       "                'mermaid_ba21aa5885bd445082fd5fe6b8f045bf', \r\n",
       "                `classDiagram\n",
       "Class01 <|-- AveryLongClass : Cool\n",
       "Class03 *-- Class04\n",
       "Class05 o-- Class06\n",
       "Class07 -- Class08\n",
       "Class09 --> C2 : How are these related?\n",
       "Class09 --* C3\n",
       "Class09 --|> Class07\n",
       "Class07 : equals()\n",
       "Class07 : Object[] elementData\n",
       "Class01 : size()\n",
       "Class01 : int chimp\n",
       "Class01 : int gorilla`, \r\n",
       "                g => {\r\n",
       "                    renderTarget.innerHTML = g \r\n",
       "                });\r\n",
       "        },\r\n",
       "        (error) => {\r\n",
       "            console.log(error);\r\n",
       "        });\r\n",
       "}\n",
       "// ensure `require` is available globally\r\n",
       "if ((typeof(require) !==  typeof(Function)) || (typeof(require.config) !== typeof(Function))) {\r\n",
       "    let require_script = document.createElement('script');\r\n",
       "    require_script.setAttribute('src', 'https://cdnjs.cloudflare.com/ajax/libs/require.js/2.3.6/require.min.js');\r\n",
       "    require_script.setAttribute('type', 'text/javascript');\r\n",
       "    \r\n",
       "    \r\n",
       "    require_script.onload = function() {\r\n",
       "        loadMermaid_ba21aa5885bd445082fd5fe6b8f045bf();\r\n",
       "    };\r\n",
       "\r\n",
       "    document.getElementsByTagName('head')[0].appendChild(require_script);\r\n",
       "}\r\n",
       "else {\r\n",
       "    loadMermaid_ba21aa5885bd445082fd5fe6b8f045bf();\r\n",
       "}\r\n",
       "\n",
       "</script>\n",
       "<div id=\"ba21aa5885bd445082fd5fe6b8f045bf\"></div>\n",
       "</div>\n"
      ]
     },
     "metadata": {},
     "output_type": "display_data"
    }
   ],
   "source": [
    "classDiagram\n",
    "Class01 <|-- AveryLongClass : Cool\n",
    "Class03 *-- Class04\n",
    "Class05 o-- Class06\n",
    "Class07 -- Class08\n",
    "Class09 --> C2 : How are these related?\n",
    "Class09 --* C3\n",
    "Class09 --|> Class07\n",
    "Class07 : equals()\n",
    "Class07 : Object[] elementData\n",
    "Class01 : size()\n",
    "Class01 : int chimp\n",
    "Class01 : int gorilla"
   ]
  }
 ],
 "metadata": {
  "kernelspec": {
   "display_name": ".NET (C#)",
   "language": "C#",
   "name": ".net-csharp"
  },
  "polyglot_notebook": {
   "kernelInfo": {
    "defaultKernelName": "csharp",
    "items": [
     {
      "aliases": [],
      "name": "csharp"
     },
     {
      "aliases": [
       "frontend"
      ],
      "languageName": null,
      "name": "vscode"
     },
     {
      "aliases": [
       "js"
      ],
      "languageName": "JavaScript",
      "name": "javascript"
     }
    ]
   }
  }
 },
 "nbformat": 4,
 "nbformat_minor": 2
}
